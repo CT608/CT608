{
  "cells": [
    {
      "cell_type": "markdown",
      "id": "690380bb",
      "metadata": {
        "id": "690380bb"
      },
      "source": [
        ""
      ]
    },
    {
      "cell_type": "markdown",
      "id": "a9caa332",
      "metadata": {
        "id": "a9caa332"
      },
      "source": [
        "# Single Neuron"
      ]
    },
    {
      "cell_type": "markdown",
      "id": "46511047",
      "metadata": {
        "id": "46511047"
      },
      "source": [
        "## Example- The Linear Unit as a Model"
      ]
    },
    {
      "cell_type": "markdown",
      "id": "74eed424",
      "metadata": {
        "id": "74eed424"
      },
      "source": [
        "Below is a multiple inputs single neuron:    \n",
        "<img src=\"https://i.imgur.com/vyXSnlZ.png\" width=\"50%\">\n",
        "\n",
        "The formula for this neuron would be: $y=w_0x_0+w_1x_1+w_2x_2+b$\n",
        "* $x_0, x_1, x_1$: inputs\n",
        "* $w_0, w_1, w_1$：weights. Whenever a value flows through a connection, you multiply the value by the connection's **weight**. For the input **x**, what reaches the neuron is **w * x**. A neural network \"learns\" by modifying its **weights**.\n",
        "* $b$: a special kind of weight we call the **bias**."
      ]
    },
    {
      "cell_type": "markdown",
      "id": "dc353d4d",
      "metadata": {
        "id": "dc353d4d"
      },
      "source": [
        "## Linear Units in Keras"
      ]
    },
    {
      "cell_type": "markdown",
      "id": "73c5f127",
      "metadata": {
        "id": "73c5f127"
      },
      "source": [
        "We could define a linear model accepting three input features($x_0, x_1, x_1$)and producing a single output($y$) like below:"
      ]
    },
    {
      "cell_type": "code",
      "execution_count": null,
      "id": "a9e5dcd0",
      "metadata": {
        "id": "a9e5dcd0"
      },
      "outputs": [],
      "source": [
        "from tensorflow import keras\n",
        "from tensorflow.keras import layers"
      ]
    },
    {
      "cell_type": "code",
      "execution_count": null,
      "id": "0b268fd8",
      "metadata": {
        "id": "0b268fd8"
      },
      "outputs": [],
      "source": [
        "# Create a network with 1 linear unit\n",
        "model = keras.Sequential([\n",
        "    layers.Dense(units=1, input_shape=[3])\n",
        "])"
      ]
    },
    {
      "cell_type": "markdown",
      "id": "91e12a73",
      "metadata": {
        "id": "91e12a73"
      },
      "source": [
        "* with the first arguement **units**, we difine how many outputs we want. **It is equal to the number of neurons in a layer**. Here the output is only $y$.\n",
        "* with the second arguement **input_shape**, we tell Keras the dimensions of the inputs. Here the inputs are $x_0, x_1, x_1$."
      ]
    },
    {
      "cell_type": "markdown",
      "id": "fbdcca44",
      "metadata": {
        "id": "fbdcca44"
      },
      "source": [
        "# Deep Neural Networks"
      ]
    },
    {
      "cell_type": "markdown",
      "id": "6bee1e7e",
      "metadata": {
        "id": "6bee1e7e"
      },
      "source": [
        "## Layers"
      ]
    },
    {
      "cell_type": "markdown",
      "id": "480cfbdb",
      "metadata": {
        "id": "480cfbdb"
      },
      "source": [
        "Neural networks typically organize their neurons into layers. When we collect together linear units having a common set of inputs we get a dense layer.  \n",
        "\n",
        "<img src=\"https://i.imgur.com/2MA4iMV.png\">"
      ]
    },
    {
      "cell_type": "markdown",
      "id": "1b5529b3",
      "metadata": {
        "id": "1b5529b3"
      },
      "source": [
        "## Activation Function"
      ]
    },
    {
      "cell_type": "markdown",
      "id": "0809f435",
      "metadata": {
        "id": "0809f435"
      },
      "source": [
        "An activation function is simply some function we apply to each of a layer's outputs (its activations). The most common is the rectifier function  max(0,x).  \n",
        "\n",
        "<img src=\"https://i.imgur.com/aeIyAlF.png\">\n",
        "\n",
        "**Without activation functions, neural networks can only learn linear relationships**. In order to fit curves, we'll need to use activation functions. The rectifier function has a graph that's a line with the negative part \"rectified\" to zero. Applying the function to the outputs of a neuron will put a bend in the data, moving us away from simple lines.  \n",
        "\n",
        "When we attach the rectifier to a linear unit, we get a **rectified linear unit or ReLU**. (For this reason, it's common to call the rectifier function the \"ReLU function\".) "
      ]
    },
    {
      "cell_type": "markdown",
      "id": "f7f528d7",
      "metadata": {
        "id": "f7f528d7"
      },
      "source": [
        "## Stacking Dense Layers"
      ]
    },
    {
      "cell_type": "markdown",
      "id": "e72499d0",
      "metadata": {
        "id": "e72499d0"
      },
      "source": [
        "<a id = \"chapter_2.3\"></a> \n",
        "Now that we have some nonlinearity, let's see how we can stack layers to get complex data transformations.  \n",
        "\n",
        "<img src=\"https://i.imgur.com/Y5iwFQZ.png\">\n",
        "\n",
        "The layers before the output layer are sometimes called **hidden**.  \n",
        "\n",
        "Notice that the final (output) layer is a linear unit (meaning, no activation function). That makes this network appropriate to a regression task, where we are trying to predict some arbitrary numeric value. Other tasks (like classification) might require an activation function on the output."
      ]
    },
    {
      "cell_type": "markdown",
      "id": "0d8899be",
      "metadata": {
        "id": "0d8899be"
      },
      "source": [
        "## Building Sequential Models"
      ]
    },
    {
      "cell_type": "markdown",
      "id": "7b27877e",
      "metadata": {
        "id": "7b27877e"
      },
      "source": [
        "The model below is built according to the picture in [Chapter 2.3](#chapter_2.3)."
      ]
    },
    {
      "cell_type": "code",
      "execution_count": null,
      "id": "92effba8",
      "metadata": {
        "id": "92effba8"
      },
      "outputs": [],
      "source": [
        "from tensorflow import keras\n",
        "from tensorflow.keras import layers"
      ]
    },
    {
      "cell_type": "code",
      "execution_count": null,
      "id": "edb74585",
      "metadata": {
        "id": "edb74585"
      },
      "outputs": [],
      "source": [
        "model = keras.Sequential([\n",
        "    # the hidden ReLU layers\n",
        "    # the first hidden layer\n",
        "    layers.Dense(units=4, activation='relu', input_shape=[2]),\n",
        "    #the second hidden layer\n",
        "    layers.Dense(units=3, activation='relu'),\n",
        "    # the linear output layer \n",
        "    layers.Dense(units=1),\n",
        "])"
      ]
    },
    {
      "cell_type": "markdown",
      "id": "4f376432",
      "metadata": {
        "id": "4f376432"
      },
      "source": [
        "**Be sure to pass all the layers together in a list, like [layer, layer, layer, ...].**"
      ]
    },
    {
      "cell_type": "markdown",
      "id": "ed86c95b",
      "metadata": {
        "id": "ed86c95b"
      },
      "source": [
        "# Stochastic Gradient Descent"
      ]
    },
    {
      "cell_type": "markdown",
      "id": "03731dd1",
      "metadata": {
        "id": "03731dd1"
      },
      "source": [
        "## Terminology"
      ]
    },
    {
      "cell_type": "markdown",
      "id": "2786ca60",
      "metadata": {
        "id": "2786ca60"
      },
      "source": [
        "- Loss Function: it measures how good the network's predictions are, (e.g. MSE, MAE);  \n",
        "\n",
        "\n",
        "- Optimizer: it can tell the network how to change its weights, (e.g stochastic gradient descent);\n",
        "    - SGD Steps:\n",
        "      1. Sample some training data (minibatch) and run it through the network to make predictions;\n",
        "      2. Measure the loss between the predictions and the true values;\n",
        "      3. Finally, adjust the weights in a direction that makes the loss smaller.<br> \n",
        "      <br>\n",
        "    - Minibatch (batch): each iteration's sample of training data;\n",
        "    - Epoch: a complete round of the training data. The number of epochs you train for is how many times the network will see each training example.  \n",
        "    \n",
        "- Learning Rate: A smaller learning rate means the network needs to see more minibatches before its weights converge to their best values.\n",
        "      \n"
      ]
    },
    {
      "cell_type": "markdown",
      "id": "c1bbf39c",
      "metadata": {
        "id": "c1bbf39c"
      },
      "source": [
        "<img src='https://i.imgur.com/rFI1tIk.gif' width='80%'>\n",
        "The animation shows the linear model  being trained with SGD. \n",
        "The pale red dots depict the entire training set, while the solid red dots are the minibatches.  \n",
        "\n",
        "Every time SGD sees a new minibatch, it will shift the weights (w the slope and b the y-intercept) toward their correct values on that batch. Batch after batch, the line eventually converges to its best fit. You can see that the loss gets smaller as the weights get closer to their true values."
      ]
    },
    {
      "cell_type": "markdown",
      "id": "fb6b94e5",
      "metadata": {
        "id": "fb6b94e5"
      },
      "source": [
        "## Example - Adding the Loss and Optimizer"
      ]
    },
    {
      "cell_type": "markdown",
      "id": "bfd0dad4",
      "metadata": {
        "id": "bfd0dad4"
      },
      "source": [
        ">model.compile(\n",
        ">    optimizer=\"adam\",\n",
        "    loss=\"mae\",\n",
        ")"
      ]
    },
    {
      "cell_type": "markdown",
      "id": "e507d057",
      "metadata": {
        "id": "e507d057"
      },
      "source": [
        "Adam is an SGD algorithm that has an adaptive learning rate that makes it suitable for most problems without any parameter tuning (it is \"self tuning\", in a sense). Adam is a great general-purpose optimizer."
      ]
    },
    {
      "cell_type": "markdown",
      "id": "d3c57f58",
      "metadata": {
        "id": "d3c57f58"
      },
      "source": [
        "### Import data"
      ]
    },
    {
      "cell_type": "code",
      "execution_count": null,
      "id": "6c7f63e5",
      "metadata": {
        "id": "6c7f63e5"
      },
      "outputs": [],
      "source": [
        "import pandas as pd\n",
        "import numpy as np\n",
        "from sklearn.preprocessing import MinMaxScaler\n",
        "from sklearn.model_selection import train_test_split\n",
        "from tensorflow import keras\n",
        "from tensorflow.keras import layers\n",
        "import matplotlib.pyplot as plt"
      ]
    },
    {
      "cell_type": "code",
      "execution_count": null,
      "id": "269c78db",
      "metadata": {
        "scrolled": false,
        "id": "269c78db",
        "outputId": "9135923d-1226-4313-9ace-ca6cb56b949c"
      },
      "outputs": [
        {
          "data": {
            "text/html": [
              "<div>\n",
              "<style scoped>\n",
              "    .dataframe tbody tr th:only-of-type {\n",
              "        vertical-align: middle;\n",
              "    }\n",
              "\n",
              "    .dataframe tbody tr th {\n",
              "        vertical-align: top;\n",
              "    }\n",
              "\n",
              "    .dataframe thead th {\n",
              "        text-align: right;\n",
              "    }\n",
              "</style>\n",
              "<table border=\"1\" class=\"dataframe\">\n",
              "  <thead>\n",
              "    <tr style=\"text-align: right;\">\n",
              "      <th></th>\n",
              "      <th>fixed acidity</th>\n",
              "      <th>volatile acidity</th>\n",
              "      <th>citric acid</th>\n",
              "      <th>residual sugar</th>\n",
              "      <th>chlorides</th>\n",
              "      <th>free sulfur dioxide</th>\n",
              "      <th>total sulfur dioxide</th>\n",
              "      <th>density</th>\n",
              "      <th>pH</th>\n",
              "      <th>sulphates</th>\n",
              "      <th>alcohol</th>\n",
              "      <th>quality</th>\n",
              "    </tr>\n",
              "  </thead>\n",
              "  <tbody>\n",
              "    <tr>\n",
              "      <th>0</th>\n",
              "      <td>7.4</td>\n",
              "      <td>0.700</td>\n",
              "      <td>0.00</td>\n",
              "      <td>1.9</td>\n",
              "      <td>0.076</td>\n",
              "      <td>11.0</td>\n",
              "      <td>34.0</td>\n",
              "      <td>0.99780</td>\n",
              "      <td>3.51</td>\n",
              "      <td>0.56</td>\n",
              "      <td>9.4</td>\n",
              "      <td>5</td>\n",
              "    </tr>\n",
              "    <tr>\n",
              "      <th>1</th>\n",
              "      <td>7.8</td>\n",
              "      <td>0.880</td>\n",
              "      <td>0.00</td>\n",
              "      <td>2.6</td>\n",
              "      <td>0.098</td>\n",
              "      <td>25.0</td>\n",
              "      <td>67.0</td>\n",
              "      <td>0.99680</td>\n",
              "      <td>3.20</td>\n",
              "      <td>0.68</td>\n",
              "      <td>9.8</td>\n",
              "      <td>5</td>\n",
              "    </tr>\n",
              "    <tr>\n",
              "      <th>2</th>\n",
              "      <td>7.8</td>\n",
              "      <td>0.760</td>\n",
              "      <td>0.04</td>\n",
              "      <td>2.3</td>\n",
              "      <td>0.092</td>\n",
              "      <td>15.0</td>\n",
              "      <td>54.0</td>\n",
              "      <td>0.99700</td>\n",
              "      <td>3.26</td>\n",
              "      <td>0.65</td>\n",
              "      <td>9.8</td>\n",
              "      <td>5</td>\n",
              "    </tr>\n",
              "    <tr>\n",
              "      <th>3</th>\n",
              "      <td>11.2</td>\n",
              "      <td>0.280</td>\n",
              "      <td>0.56</td>\n",
              "      <td>1.9</td>\n",
              "      <td>0.075</td>\n",
              "      <td>17.0</td>\n",
              "      <td>60.0</td>\n",
              "      <td>0.99800</td>\n",
              "      <td>3.16</td>\n",
              "      <td>0.58</td>\n",
              "      <td>9.8</td>\n",
              "      <td>6</td>\n",
              "    </tr>\n",
              "    <tr>\n",
              "      <th>4</th>\n",
              "      <td>7.4</td>\n",
              "      <td>0.700</td>\n",
              "      <td>0.00</td>\n",
              "      <td>1.9</td>\n",
              "      <td>0.076</td>\n",
              "      <td>11.0</td>\n",
              "      <td>34.0</td>\n",
              "      <td>0.99780</td>\n",
              "      <td>3.51</td>\n",
              "      <td>0.56</td>\n",
              "      <td>9.4</td>\n",
              "      <td>5</td>\n",
              "    </tr>\n",
              "    <tr>\n",
              "      <th>...</th>\n",
              "      <td>...</td>\n",
              "      <td>...</td>\n",
              "      <td>...</td>\n",
              "      <td>...</td>\n",
              "      <td>...</td>\n",
              "      <td>...</td>\n",
              "      <td>...</td>\n",
              "      <td>...</td>\n",
              "      <td>...</td>\n",
              "      <td>...</td>\n",
              "      <td>...</td>\n",
              "      <td>...</td>\n",
              "    </tr>\n",
              "    <tr>\n",
              "      <th>1594</th>\n",
              "      <td>6.2</td>\n",
              "      <td>0.600</td>\n",
              "      <td>0.08</td>\n",
              "      <td>2.0</td>\n",
              "      <td>0.090</td>\n",
              "      <td>32.0</td>\n",
              "      <td>44.0</td>\n",
              "      <td>0.99490</td>\n",
              "      <td>3.45</td>\n",
              "      <td>0.58</td>\n",
              "      <td>10.5</td>\n",
              "      <td>5</td>\n",
              "    </tr>\n",
              "    <tr>\n",
              "      <th>1595</th>\n",
              "      <td>5.9</td>\n",
              "      <td>0.550</td>\n",
              "      <td>0.10</td>\n",
              "      <td>2.2</td>\n",
              "      <td>0.062</td>\n",
              "      <td>39.0</td>\n",
              "      <td>51.0</td>\n",
              "      <td>0.99512</td>\n",
              "      <td>3.52</td>\n",
              "      <td>0.76</td>\n",
              "      <td>11.2</td>\n",
              "      <td>6</td>\n",
              "    </tr>\n",
              "    <tr>\n",
              "      <th>1596</th>\n",
              "      <td>6.3</td>\n",
              "      <td>0.510</td>\n",
              "      <td>0.13</td>\n",
              "      <td>2.3</td>\n",
              "      <td>0.076</td>\n",
              "      <td>29.0</td>\n",
              "      <td>40.0</td>\n",
              "      <td>0.99574</td>\n",
              "      <td>3.42</td>\n",
              "      <td>0.75</td>\n",
              "      <td>11.0</td>\n",
              "      <td>6</td>\n",
              "    </tr>\n",
              "    <tr>\n",
              "      <th>1597</th>\n",
              "      <td>5.9</td>\n",
              "      <td>0.645</td>\n",
              "      <td>0.12</td>\n",
              "      <td>2.0</td>\n",
              "      <td>0.075</td>\n",
              "      <td>32.0</td>\n",
              "      <td>44.0</td>\n",
              "      <td>0.99547</td>\n",
              "      <td>3.57</td>\n",
              "      <td>0.71</td>\n",
              "      <td>10.2</td>\n",
              "      <td>5</td>\n",
              "    </tr>\n",
              "    <tr>\n",
              "      <th>1598</th>\n",
              "      <td>6.0</td>\n",
              "      <td>0.310</td>\n",
              "      <td>0.47</td>\n",
              "      <td>3.6</td>\n",
              "      <td>0.067</td>\n",
              "      <td>18.0</td>\n",
              "      <td>42.0</td>\n",
              "      <td>0.99549</td>\n",
              "      <td>3.39</td>\n",
              "      <td>0.66</td>\n",
              "      <td>11.0</td>\n",
              "      <td>6</td>\n",
              "    </tr>\n",
              "  </tbody>\n",
              "</table>\n",
              "<p>1599 rows × 12 columns</p>\n",
              "</div>"
            ],
            "text/plain": [
              "      fixed acidity  volatile acidity  citric acid  residual sugar  chlorides  \\\n",
              "0               7.4             0.700         0.00             1.9      0.076   \n",
              "1               7.8             0.880         0.00             2.6      0.098   \n",
              "2               7.8             0.760         0.04             2.3      0.092   \n",
              "3              11.2             0.280         0.56             1.9      0.075   \n",
              "4               7.4             0.700         0.00             1.9      0.076   \n",
              "...             ...               ...          ...             ...        ...   \n",
              "1594            6.2             0.600         0.08             2.0      0.090   \n",
              "1595            5.9             0.550         0.10             2.2      0.062   \n",
              "1596            6.3             0.510         0.13             2.3      0.076   \n",
              "1597            5.9             0.645         0.12             2.0      0.075   \n",
              "1598            6.0             0.310         0.47             3.6      0.067   \n",
              "\n",
              "      free sulfur dioxide  total sulfur dioxide  density    pH  sulphates  \\\n",
              "0                    11.0                  34.0  0.99780  3.51       0.56   \n",
              "1                    25.0                  67.0  0.99680  3.20       0.68   \n",
              "2                    15.0                  54.0  0.99700  3.26       0.65   \n",
              "3                    17.0                  60.0  0.99800  3.16       0.58   \n",
              "4                    11.0                  34.0  0.99780  3.51       0.56   \n",
              "...                   ...                   ...      ...   ...        ...   \n",
              "1594                 32.0                  44.0  0.99490  3.45       0.58   \n",
              "1595                 39.0                  51.0  0.99512  3.52       0.76   \n",
              "1596                 29.0                  40.0  0.99574  3.42       0.75   \n",
              "1597                 32.0                  44.0  0.99547  3.57       0.71   \n",
              "1598                 18.0                  42.0  0.99549  3.39       0.66   \n",
              "\n",
              "      alcohol  quality  \n",
              "0         9.4        5  \n",
              "1         9.8        5  \n",
              "2         9.8        5  \n",
              "3         9.8        6  \n",
              "4         9.4        5  \n",
              "...       ...      ...  \n",
              "1594     10.5        5  \n",
              "1595     11.2        6  \n",
              "1596     11.0        6  \n",
              "1597     10.2        5  \n",
              "1598     11.0        6  \n",
              "\n",
              "[1599 rows x 12 columns]"
            ]
          },
          "execution_count": 6,
          "metadata": {},
          "output_type": "execute_result"
        }
      ],
      "source": [
        "data = pd.read_csv('red-wine.csv')\n",
        "data"
      ]
    },
    {
      "cell_type": "code",
      "execution_count": null,
      "id": "e7a2820e",
      "metadata": {
        "id": "e7a2820e",
        "outputId": "1172b636-a9aa-430c-86c5-41511803047d"
      },
      "outputs": [
        {
          "data": {
            "text/html": [
              "<div>\n",
              "<style scoped>\n",
              "    .dataframe tbody tr th:only-of-type {\n",
              "        vertical-align: middle;\n",
              "    }\n",
              "\n",
              "    .dataframe tbody tr th {\n",
              "        vertical-align: top;\n",
              "    }\n",
              "\n",
              "    .dataframe thead th {\n",
              "        text-align: right;\n",
              "    }\n",
              "</style>\n",
              "<table border=\"1\" class=\"dataframe\">\n",
              "  <thead>\n",
              "    <tr style=\"text-align: right;\">\n",
              "      <th></th>\n",
              "      <th>fixed acidity</th>\n",
              "      <th>volatile acidity</th>\n",
              "      <th>citric acid</th>\n",
              "      <th>residual sugar</th>\n",
              "      <th>chlorides</th>\n",
              "      <th>free sulfur dioxide</th>\n",
              "      <th>total sulfur dioxide</th>\n",
              "      <th>density</th>\n",
              "      <th>pH</th>\n",
              "      <th>sulphates</th>\n",
              "      <th>alcohol</th>\n",
              "      <th>quality</th>\n",
              "    </tr>\n",
              "  </thead>\n",
              "  <tbody>\n",
              "    <tr>\n",
              "      <th>count</th>\n",
              "      <td>1599.000000</td>\n",
              "      <td>1599.000000</td>\n",
              "      <td>1599.000000</td>\n",
              "      <td>1599.000000</td>\n",
              "      <td>1599.000000</td>\n",
              "      <td>1599.000000</td>\n",
              "      <td>1599.000000</td>\n",
              "      <td>1599.000000</td>\n",
              "      <td>1599.000000</td>\n",
              "      <td>1599.000000</td>\n",
              "      <td>1599.000000</td>\n",
              "      <td>1599.000000</td>\n",
              "    </tr>\n",
              "    <tr>\n",
              "      <th>mean</th>\n",
              "      <td>8.319637</td>\n",
              "      <td>0.527821</td>\n",
              "      <td>0.270976</td>\n",
              "      <td>2.538806</td>\n",
              "      <td>0.087467</td>\n",
              "      <td>15.874922</td>\n",
              "      <td>46.467792</td>\n",
              "      <td>0.996747</td>\n",
              "      <td>3.311113</td>\n",
              "      <td>0.658149</td>\n",
              "      <td>10.422983</td>\n",
              "      <td>5.636023</td>\n",
              "    </tr>\n",
              "    <tr>\n",
              "      <th>std</th>\n",
              "      <td>1.741096</td>\n",
              "      <td>0.179060</td>\n",
              "      <td>0.194801</td>\n",
              "      <td>1.409928</td>\n",
              "      <td>0.047065</td>\n",
              "      <td>10.460157</td>\n",
              "      <td>32.895324</td>\n",
              "      <td>0.001887</td>\n",
              "      <td>0.154386</td>\n",
              "      <td>0.169507</td>\n",
              "      <td>1.065668</td>\n",
              "      <td>0.807569</td>\n",
              "    </tr>\n",
              "    <tr>\n",
              "      <th>min</th>\n",
              "      <td>4.600000</td>\n",
              "      <td>0.120000</td>\n",
              "      <td>0.000000</td>\n",
              "      <td>0.900000</td>\n",
              "      <td>0.012000</td>\n",
              "      <td>1.000000</td>\n",
              "      <td>6.000000</td>\n",
              "      <td>0.990070</td>\n",
              "      <td>2.740000</td>\n",
              "      <td>0.330000</td>\n",
              "      <td>8.400000</td>\n",
              "      <td>3.000000</td>\n",
              "    </tr>\n",
              "    <tr>\n",
              "      <th>25%</th>\n",
              "      <td>7.100000</td>\n",
              "      <td>0.390000</td>\n",
              "      <td>0.090000</td>\n",
              "      <td>1.900000</td>\n",
              "      <td>0.070000</td>\n",
              "      <td>7.000000</td>\n",
              "      <td>22.000000</td>\n",
              "      <td>0.995600</td>\n",
              "      <td>3.210000</td>\n",
              "      <td>0.550000</td>\n",
              "      <td>9.500000</td>\n",
              "      <td>5.000000</td>\n",
              "    </tr>\n",
              "    <tr>\n",
              "      <th>50%</th>\n",
              "      <td>7.900000</td>\n",
              "      <td>0.520000</td>\n",
              "      <td>0.260000</td>\n",
              "      <td>2.200000</td>\n",
              "      <td>0.079000</td>\n",
              "      <td>14.000000</td>\n",
              "      <td>38.000000</td>\n",
              "      <td>0.996750</td>\n",
              "      <td>3.310000</td>\n",
              "      <td>0.620000</td>\n",
              "      <td>10.200000</td>\n",
              "      <td>6.000000</td>\n",
              "    </tr>\n",
              "    <tr>\n",
              "      <th>75%</th>\n",
              "      <td>9.200000</td>\n",
              "      <td>0.640000</td>\n",
              "      <td>0.420000</td>\n",
              "      <td>2.600000</td>\n",
              "      <td>0.090000</td>\n",
              "      <td>21.000000</td>\n",
              "      <td>62.000000</td>\n",
              "      <td>0.997835</td>\n",
              "      <td>3.400000</td>\n",
              "      <td>0.730000</td>\n",
              "      <td>11.100000</td>\n",
              "      <td>6.000000</td>\n",
              "    </tr>\n",
              "    <tr>\n",
              "      <th>max</th>\n",
              "      <td>15.900000</td>\n",
              "      <td>1.580000</td>\n",
              "      <td>1.000000</td>\n",
              "      <td>15.500000</td>\n",
              "      <td>0.611000</td>\n",
              "      <td>72.000000</td>\n",
              "      <td>289.000000</td>\n",
              "      <td>1.003690</td>\n",
              "      <td>4.010000</td>\n",
              "      <td>2.000000</td>\n",
              "      <td>14.900000</td>\n",
              "      <td>8.000000</td>\n",
              "    </tr>\n",
              "  </tbody>\n",
              "</table>\n",
              "</div>"
            ],
            "text/plain": [
              "       fixed acidity  volatile acidity  citric acid  residual sugar  \\\n",
              "count    1599.000000       1599.000000  1599.000000     1599.000000   \n",
              "mean        8.319637          0.527821     0.270976        2.538806   \n",
              "std         1.741096          0.179060     0.194801        1.409928   \n",
              "min         4.600000          0.120000     0.000000        0.900000   \n",
              "25%         7.100000          0.390000     0.090000        1.900000   \n",
              "50%         7.900000          0.520000     0.260000        2.200000   \n",
              "75%         9.200000          0.640000     0.420000        2.600000   \n",
              "max        15.900000          1.580000     1.000000       15.500000   \n",
              "\n",
              "         chlorides  free sulfur dioxide  total sulfur dioxide      density  \\\n",
              "count  1599.000000          1599.000000           1599.000000  1599.000000   \n",
              "mean      0.087467            15.874922             46.467792     0.996747   \n",
              "std       0.047065            10.460157             32.895324     0.001887   \n",
              "min       0.012000             1.000000              6.000000     0.990070   \n",
              "25%       0.070000             7.000000             22.000000     0.995600   \n",
              "50%       0.079000            14.000000             38.000000     0.996750   \n",
              "75%       0.090000            21.000000             62.000000     0.997835   \n",
              "max       0.611000            72.000000            289.000000     1.003690   \n",
              "\n",
              "                pH    sulphates      alcohol      quality  \n",
              "count  1599.000000  1599.000000  1599.000000  1599.000000  \n",
              "mean      3.311113     0.658149    10.422983     5.636023  \n",
              "std       0.154386     0.169507     1.065668     0.807569  \n",
              "min       2.740000     0.330000     8.400000     3.000000  \n",
              "25%       3.210000     0.550000     9.500000     5.000000  \n",
              "50%       3.310000     0.620000    10.200000     6.000000  \n",
              "75%       3.400000     0.730000    11.100000     6.000000  \n",
              "max       4.010000     2.000000    14.900000     8.000000  "
            ]
          },
          "execution_count": 7,
          "metadata": {},
          "output_type": "execute_result"
        }
      ],
      "source": [
        "data.describe()"
      ]
    },
    {
      "cell_type": "markdown",
      "id": "5aa33ce7",
      "metadata": {
        "id": "5aa33ce7"
      },
      "source": [
        "### Data Processing\n",
        "<a id = \"chapter_3.2.2\"></a> "
      ]
    },
    {
      "cell_type": "code",
      "execution_count": null,
      "id": "f2643a36",
      "metadata": {
        "id": "f2643a36"
      },
      "outputs": [],
      "source": [
        "x = data.drop(columns='quality')\n",
        "y = data['quality']\n",
        "x_col_name = x.columns"
      ]
    },
    {
      "cell_type": "markdown",
      "id": "2688047d",
      "metadata": {
        "id": "2688047d"
      },
      "source": [
        "##### Spliting data"
      ]
    },
    {
      "cell_type": "code",
      "execution_count": null,
      "id": "9914a1f6",
      "metadata": {
        "id": "9914a1f6"
      },
      "outputs": [],
      "source": [
        "x_train, x_valid, y_train, y_valid = train_test_split(x, y, test_size=0.3, random_state=0)"
      ]
    },
    {
      "cell_type": "markdown",
      "id": "6df6b622",
      "metadata": {
        "id": "6df6b622"
      },
      "source": [
        "##### Scaling data\n",
        "neural networks tend to perform best when their inputs are on a common scale."
      ]
    },
    {
      "cell_type": "code",
      "execution_count": null,
      "id": "64c3636d",
      "metadata": {
        "id": "64c3636d"
      },
      "outputs": [],
      "source": [
        "scaler = MinMaxScaler()\n",
        "x_train = scaler.fit_transform(x_train)\n",
        "x_train = pd.DataFrame(x_train, columns=x_col_name)\n",
        "\n",
        "x_valid = scaler.transform(x_valid)\n",
        "x_valid = pd.DataFrame(x_valid, columns=x_col_name)"
      ]
    },
    {
      "cell_type": "markdown",
      "id": "f60239b7",
      "metadata": {
        "id": "f60239b7"
      },
      "source": [
        "### Building Model\n",
        "<a id = \"chapter_3.2.3\"></a> "
      ]
    },
    {
      "cell_type": "code",
      "execution_count": null,
      "id": "666b7282",
      "metadata": {
        "id": "666b7282"
      },
      "outputs": [],
      "source": [
        "model = keras.Sequential([\n",
        "    # the hidden ReLU layers\n",
        "    # the first hidden layer\n",
        "    layers.Dense(units=512, activation='relu', input_shape=[11]),\n",
        "    #the second hidden layer\n",
        "    layers.Dense(units=512, activation='relu'),\n",
        "    #the third hidden layer\n",
        "    layers.Dense(units=512, activation='relu'),\n",
        "    # the linear output layer \n",
        "    layers.Dense(units=1),\n",
        "])"
      ]
    },
    {
      "cell_type": "code",
      "execution_count": null,
      "id": "a668cdb2",
      "metadata": {
        "scrolled": true,
        "id": "a668cdb2",
        "outputId": "84805d93-3090-4fec-89e0-42dc1ca11de0"
      },
      "outputs": [
        {
          "name": "stdout",
          "output_type": "stream",
          "text": [
            "Epoch 1/10\n",
            "5/5 [==============================] - 1s 69ms/step - loss: 5.1100 - val_loss: 3.5934\n",
            "Epoch 2/10\n",
            "5/5 [==============================] - 0s 24ms/step - loss: 2.2257 - val_loss: 1.7506\n",
            "Epoch 3/10\n",
            "5/5 [==============================] - 0s 29ms/step - loss: 1.4492 - val_loss: 0.8501\n",
            "Epoch 4/10\n",
            "5/5 [==============================] - 0s 37ms/step - loss: 1.1627 - val_loss: 0.9063\n",
            "Epoch 5/10\n",
            "5/5 [==============================] - 0s 32ms/step - loss: 0.8902 - val_loss: 0.9485\n",
            "Epoch 6/10\n",
            "5/5 [==============================] - 0s 29ms/step - loss: 0.8569 - val_loss: 0.7230\n",
            "Epoch 7/10\n",
            "5/5 [==============================] - 0s 28ms/step - loss: 0.8204 - val_loss: 0.6128\n",
            "Epoch 8/10\n",
            "5/5 [==============================] - 0s 26ms/step - loss: 0.7432 - val_loss: 0.6215\n",
            "Epoch 9/10\n",
            "5/5 [==============================] - 0s 25ms/step - loss: 0.6927 - val_loss: 0.6171\n",
            "Epoch 10/10\n",
            "5/5 [==============================] - 0s 26ms/step - loss: 0.6944 - val_loss: 0.6544\n"
          ]
        }
      ],
      "source": [
        "model.compile(optimizer='adam', loss='mae')\n",
        "history = model.fit(\n",
        "    x_train, y_train,\n",
        "    validation_data=(x_valid, y_valid),\n",
        "    batch_size=256,\n",
        "    epochs=10,\n",
        ")"
      ]
    },
    {
      "cell_type": "code",
      "execution_count": null,
      "id": "e448f7f5",
      "metadata": {
        "id": "e448f7f5",
        "outputId": "b8e2e7e0-efc1-49f9-9ffd-df017ca5010f"
      },
      "outputs": [
        {
          "data": {
            "text/html": [
              "<div>\n",
              "<style scoped>\n",
              "    .dataframe tbody tr th:only-of-type {\n",
              "        vertical-align: middle;\n",
              "    }\n",
              "\n",
              "    .dataframe tbody tr th {\n",
              "        vertical-align: top;\n",
              "    }\n",
              "\n",
              "    .dataframe thead th {\n",
              "        text-align: right;\n",
              "    }\n",
              "</style>\n",
              "<table border=\"1\" class=\"dataframe\">\n",
              "  <thead>\n",
              "    <tr style=\"text-align: right;\">\n",
              "      <th></th>\n",
              "      <th>loss</th>\n",
              "      <th>val_loss</th>\n",
              "    </tr>\n",
              "  </thead>\n",
              "  <tbody>\n",
              "    <tr>\n",
              "      <th>0</th>\n",
              "      <td>5.109963</td>\n",
              "      <td>3.593359</td>\n",
              "    </tr>\n",
              "    <tr>\n",
              "      <th>1</th>\n",
              "      <td>2.225713</td>\n",
              "      <td>1.750589</td>\n",
              "    </tr>\n",
              "    <tr>\n",
              "      <th>2</th>\n",
              "      <td>1.449162</td>\n",
              "      <td>0.850120</td>\n",
              "    </tr>\n",
              "    <tr>\n",
              "      <th>3</th>\n",
              "      <td>1.162735</td>\n",
              "      <td>0.906333</td>\n",
              "    </tr>\n",
              "    <tr>\n",
              "      <th>4</th>\n",
              "      <td>0.890246</td>\n",
              "      <td>0.948469</td>\n",
              "    </tr>\n",
              "    <tr>\n",
              "      <th>5</th>\n",
              "      <td>0.856874</td>\n",
              "      <td>0.722986</td>\n",
              "    </tr>\n",
              "    <tr>\n",
              "      <th>6</th>\n",
              "      <td>0.820369</td>\n",
              "      <td>0.612799</td>\n",
              "    </tr>\n",
              "    <tr>\n",
              "      <th>7</th>\n",
              "      <td>0.743244</td>\n",
              "      <td>0.621487</td>\n",
              "    </tr>\n",
              "    <tr>\n",
              "      <th>8</th>\n",
              "      <td>0.692687</td>\n",
              "      <td>0.617121</td>\n",
              "    </tr>\n",
              "    <tr>\n",
              "      <th>9</th>\n",
              "      <td>0.694361</td>\n",
              "      <td>0.654399</td>\n",
              "    </tr>\n",
              "  </tbody>\n",
              "</table>\n",
              "</div>"
            ],
            "text/plain": [
              "       loss  val_loss\n",
              "0  5.109963  3.593359\n",
              "1  2.225713  1.750589\n",
              "2  1.449162  0.850120\n",
              "3  1.162735  0.906333\n",
              "4  0.890246  0.948469\n",
              "5  0.856874  0.722986\n",
              "6  0.820369  0.612799\n",
              "7  0.743244  0.621487\n",
              "8  0.692687  0.617121\n",
              "9  0.694361  0.654399"
            ]
          },
          "execution_count": 13,
          "metadata": {},
          "output_type": "execute_result"
        }
      ],
      "source": [
        "model_history = pd.DataFrame(history.history)\n",
        "model_history"
      ]
    },
    {
      "cell_type": "code",
      "execution_count": null,
      "id": "cc3737f9",
      "metadata": {
        "scrolled": true,
        "id": "cc3737f9",
        "outputId": "d5253281-2bfa-42e0-ec90-5884b694a28e"
      },
      "outputs": [
        {
          "data": {
            "text/plain": [
              "<AxesSubplot:title={'center':'Learning Curve'}, xlabel='Epoch', ylabel='MAE'>"
            ]
          },
          "execution_count": 14,
          "metadata": {},
          "output_type": "execute_result"
        },
        {
          "data": {
            "image/png": "[encoded data removed]",
            "text/plain": [
              "<Figure size 576x360 with 1 Axes>"
            ]
          },
          "metadata": {
            "needs_background": "light"
          },
          "output_type": "display_data"
        }
      ],
      "source": [
        "model_history.plot(\n",
        "    figsize=(8,5), \n",
        "    title='Learning Curve',\n",
        "    xlabel='Epoch',\n",
        "    ylabel='MAE',\n",
        "    fontsize=10\n",
        ")"
      ]
    },
    {
      "cell_type": "markdown",
      "id": "2c5bc587",
      "metadata": {
        "id": "2c5bc587"
      },
      "source": [
        "# Overfitting and Underfitting"
      ]
    },
    {
      "cell_type": "markdown",
      "id": "40da9d3f",
      "metadata": {
        "id": "40da9d3f"
      },
      "source": [
        "## Terminology"
      ]
    },
    {
      "cell_type": "markdown",
      "id": "744023b0",
      "metadata": {
        "id": "744023b0"
      },
      "source": [
        "- Signal: it can help our model make predictions from new data.  \n",
        "\n",
        "\n",
        "- Noise: it is only true of the training data; the noise is all of the random fluctuation that comes from data in the real-world or all of the incidental, non-informative patterns that can't actually help the model make predictions. The noise is the part might look useful but really isn't.  \n",
        "\n",
        "\n",
        "- Learning Curves: plot traing loss and validation loss against epochs.the training loss will go down either when the model learns signal or when it learns noise. But the validation loss will go down only when the model learns signal.\n",
        "<img src=\"https://i.imgur.com/tHiVFnM.png\" width=\"50%\">\n",
        "\n",
        "- Underfitting： the model dosen't learn enough signal.   \n",
        "\n",
        "\n",
        "- Overfitting the model learns too much noise."
      ]
    },
    {
      "cell_type": "markdown",
      "id": "46757934",
      "metadata": {
        "id": "46757934"
      },
      "source": [
        "## Ways to Decrease Overfitting and Underfitting"
      ]
    },
    {
      "cell_type": "markdown",
      "id": "7fb1e759",
      "metadata": {
        "id": "7fb1e759"
      },
      "source": [
        "### Capacity"
      ]
    },
    {
      "cell_type": "markdown",
      "id": "00d13595",
      "metadata": {
        "id": "00d13595"
      },
      "source": [
        "A model's capacity refers to the size and complexity of the patterns it is able to learn. For neural networks, it is determined by the how many neurons it has and how they are connected together. If your model is underfitting, you should increase the capacity.  \n",
        "\n",
        "\n",
        "Methods to increase capacity:\n",
        "- Winder networks: have easier time learning more linear relationship.\n",
        "- Deeper networks: prefer more nonlinear relationship.\n",
        "\n",
        "    Examples of wider and deeper networks:\n",
        "```Python\n",
        "model = keras.Sequential([\n",
        "    layers.Dense(16, activation='relu'),\n",
        "    layers.Dense(1),\n",
        "])\n",
        "wider = keras.Sequential([\n",
        "    layers.Dense(32, activation='relu'),\n",
        "    layers.Dense(1),\n",
        "])\n",
        "deeper = keras.Sequential([\n",
        "    layers.Dense(16, activation='relu'),\n",
        "    layers.Dense(16, activation='relu'),\n",
        "    layers.Dense(1),\n",
        "])\n",
        "```"
      ]
    },
    {
      "cell_type": "markdown",
      "id": "f70e633c",
      "metadata": {
        "id": "f70e633c"
      },
      "source": [
        "### Early Stopping"
      ]
    },
    {
      "cell_type": "markdown",
      "id": "36e3d776",
      "metadata": {
        "id": "36e3d776"
      },
      "source": [
        "#### Introduction"
      ]
    },
    {
      "cell_type": "markdown",
      "id": "48677ab2",
      "metadata": {
        "id": "48677ab2"
      },
      "source": [
        "Simply stop the training whenever it seems the validation loss isn't decreasing anymore. \n",
        "<img src=\"https://i.imgur.com/eP0gppr.png\" width=\"50%\">\n",
        "\n",
        "Code:\n",
        "```Python\n",
        "from tensorflow.keras.callbacks import EarlyStopping\n",
        "early_stopping = EarlyStopping(\n",
        "    min_delta=0.01, # minimium amount of change to count as an improvement\n",
        "    patience=20, # how many epochs to wait before stopping\n",
        "    restore_best_weights=True,\n",
        ")\n",
        "```\n",
        "These parameters say: \"If there hasn't been at least an improvement of 0.01 in the validation loss over the previous 20 epochs, then stop the training and keep the best model you found.\" It can sometimes be hard to tell if the validation loss is rising due to overfitting or just due to random batch variation. The parameters allow us to set some allowances around when to stop.<p>\n",
        "**<font color=red size=6>how to understand EarlyStopping?</font>**\n"
      ]
    },
    {
      "cell_type": "markdown",
      "id": "585a2089",
      "metadata": {
        "id": "585a2089"
      },
      "source": [
        "#### Example"
      ]
    },
    {
      "cell_type": "code",
      "execution_count": null,
      "id": "80a56850",
      "metadata": {
        "id": "80a56850"
      },
      "outputs": [],
      "source": [
        "from tensorflow import keras\n",
        "from tensorflow.keras import layers, callbacks"
      ]
    },
    {
      "cell_type": "markdown",
      "id": "e29314b3",
      "metadata": {
        "id": "e29314b3"
      },
      "source": [
        "Here still use the model built in [Chapter 3.2.3](#chapter_3.2.3)"
      ]
    },
    {
      "cell_type": "markdown",
      "id": "f259368c",
      "metadata": {
        "id": "f259368c"
      },
      "source": [
        "##### Set EarlyStopping"
      ]
    },
    {
      "cell_type": "code",
      "execution_count": null,
      "id": "ef1aa405",
      "metadata": {
        "id": "ef1aa405"
      },
      "outputs": [],
      "source": [
        "early_stopping = callbacks.EarlyStopping(\n",
        "    min_delta=0.01, # minimium amount of change to count as an improvement\n",
        "    patience=20, # how many epochs to wait before stopping\n",
        "    restore_best_weights=True,\n",
        ")"
      ]
    },
    {
      "cell_type": "code",
      "execution_count": null,
      "id": "513cfd2d",
      "metadata": {
        "id": "513cfd2d",
        "outputId": "62b33a59-94ed-4a8f-80c4-bb3a3161a26a"
      },
      "outputs": [
        {
          "name": "stdout",
          "output_type": "stream",
          "text": [
            "Epoch 1/100\n",
            "5/5 [==============================] - 0s 40ms/step - loss: 0.6660 - val_loss: 0.5920\n",
            "Epoch 2/100\n",
            "5/5 [==============================] - 0s 28ms/step - loss: 0.6463 - val_loss: 0.6183\n",
            "Epoch 3/100\n",
            "5/5 [==============================] - 0s 25ms/step - loss: 0.6438 - val_loss: 0.5717\n",
            "Epoch 4/100\n",
            "5/5 [==============================] - 0s 24ms/step - loss: 0.6286 - val_loss: 0.6041\n",
            "Epoch 5/100\n",
            "5/5 [==============================] - 0s 24ms/step - loss: 0.6194 - val_loss: 0.5636\n",
            "Epoch 6/100\n",
            "5/5 [==============================] - 0s 28ms/step - loss: 0.6150 - val_loss: 0.5693\n",
            "Epoch 7/100\n",
            "5/5 [==============================] - 0s 24ms/step - loss: 0.6066 - val_loss: 0.5624\n",
            "Epoch 8/100\n",
            "5/5 [==============================] - 0s 26ms/step - loss: 0.5931 - val_loss: 0.5508\n",
            "Epoch 9/100\n",
            "5/5 [==============================] - 0s 31ms/step - loss: 0.5906 - val_loss: 0.5945\n",
            "Epoch 10/100\n",
            "5/5 [==============================] - 0s 30ms/step - loss: 0.5895 - val_loss: 0.5498\n",
            "Epoch 11/100\n",
            "5/5 [==============================] - 0s 25ms/step - loss: 0.5719 - val_loss: 0.5393\n",
            "Epoch 12/100\n",
            "5/5 [==============================] - 0s 26ms/step - loss: 0.5636 - val_loss: 0.5567\n",
            "Epoch 13/100\n",
            "5/5 [==============================] - 0s 23ms/step - loss: 0.5596 - val_loss: 0.5583\n",
            "Epoch 14/100\n",
            "5/5 [==============================] - 0s 23ms/step - loss: 0.5543 - val_loss: 0.5526\n",
            "Epoch 15/100\n",
            "5/5 [==============================] - 0s 25ms/step - loss: 0.5470 - val_loss: 0.5285\n",
            "Epoch 16/100\n",
            "5/5 [==============================] - 0s 25ms/step - loss: 0.5361 - val_loss: 0.5288\n",
            "Epoch 17/100\n",
            "5/5 [==============================] - 0s 25ms/step - loss: 0.5278 - val_loss: 0.5472\n",
            "Epoch 18/100\n",
            "5/5 [==============================] - 0s 24ms/step - loss: 0.5239 - val_loss: 0.5263\n",
            "Epoch 19/100\n",
            "5/5 [==============================] - 0s 24ms/step - loss: 0.5233 - val_loss: 0.5154\n",
            "Epoch 20/100\n",
            "5/5 [==============================] - 0s 25ms/step - loss: 0.5144 - val_loss: 0.5166\n",
            "Epoch 21/100\n",
            "5/5 [==============================] - 0s 24ms/step - loss: 0.5091 - val_loss: 0.5305\n",
            "Epoch 22/100\n",
            "5/5 [==============================] - 0s 24ms/step - loss: 0.5070 - val_loss: 0.5202\n",
            "Epoch 23/100\n",
            "5/5 [==============================] - 0s 25ms/step - loss: 0.5077 - val_loss: 0.5015\n",
            "Epoch 24/100\n",
            "5/5 [==============================] - 0s 25ms/step - loss: 0.5027 - val_loss: 0.4980\n",
            "Epoch 25/100\n",
            "5/5 [==============================] - 0s 25ms/step - loss: 0.4933 - val_loss: 0.5061\n",
            "Epoch 26/100\n",
            "5/5 [==============================] - 0s 26ms/step - loss: 0.4902 - val_loss: 0.4975\n",
            "Epoch 27/100\n",
            "5/5 [==============================] - 0s 26ms/step - loss: 0.4915 - val_loss: 0.4924\n",
            "Epoch 28/100\n",
            "5/5 [==============================] - 0s 24ms/step - loss: 0.4916 - val_loss: 0.4947\n",
            "Epoch 29/100\n",
            "5/5 [==============================] - 0s 23ms/step - loss: 0.4835 - val_loss: 0.4924\n",
            "Epoch 30/100\n",
            "5/5 [==============================] - 0s 23ms/step - loss: 0.4820 - val_loss: 0.5017\n",
            "Epoch 31/100\n",
            "5/5 [==============================] - 0s 24ms/step - loss: 0.4863 - val_loss: 0.4907\n",
            "Epoch 32/100\n",
            "5/5 [==============================] - 0s 24ms/step - loss: 0.4697 - val_loss: 0.4833\n",
            "Epoch 33/100\n",
            "5/5 [==============================] - 0s 25ms/step - loss: 0.4696 - val_loss: 0.5083\n",
            "Epoch 34/100\n",
            "5/5 [==============================] - 0s 25ms/step - loss: 0.4666 - val_loss: 0.4895\n",
            "Epoch 35/100\n",
            "5/5 [==============================] - 0s 26ms/step - loss: 0.4672 - val_loss: 0.4843\n",
            "Epoch 36/100\n",
            "5/5 [==============================] - 0s 24ms/step - loss: 0.4631 - val_loss: 0.4866\n",
            "Epoch 37/100\n",
            "5/5 [==============================] - 0s 24ms/step - loss: 0.4682 - val_loss: 0.4815\n",
            "Epoch 38/100\n",
            "5/5 [==============================] - 0s 25ms/step - loss: 0.4639 - val_loss: 0.4759\n",
            "Epoch 39/100\n",
            "5/5 [==============================] - 0s 24ms/step - loss: 0.4584 - val_loss: 0.4883\n",
            "Epoch 40/100\n",
            "5/5 [==============================] - 0s 24ms/step - loss: 0.4734 - val_loss: 0.4915\n",
            "Epoch 41/100\n",
            "5/5 [==============================] - 0s 25ms/step - loss: 0.4642 - val_loss: 0.4746\n",
            "Epoch 42/100\n",
            "5/5 [==============================] - 0s 26ms/step - loss: 0.4550 - val_loss: 0.4812\n",
            "Epoch 43/100\n",
            "5/5 [==============================] - 0s 26ms/step - loss: 0.4591 - val_loss: 0.5075\n",
            "Epoch 44/100\n",
            "5/5 [==============================] - 0s 23ms/step - loss: 0.4559 - val_loss: 0.4805\n",
            "Epoch 45/100\n",
            "5/5 [==============================] - 0s 23ms/step - loss: 0.4488 - val_loss: 0.5007\n",
            "Epoch 46/100\n",
            "5/5 [==============================] - 0s 23ms/step - loss: 0.4919 - val_loss: 0.5275\n",
            "Epoch 47/100\n",
            "5/5 [==============================] - 0s 27ms/step - loss: 0.4897 - val_loss: 0.4879\n",
            "Epoch 48/100\n",
            "5/5 [==============================] - 0s 24ms/step - loss: 0.4588 - val_loss: 0.4771\n",
            "Epoch 49/100\n",
            "5/5 [==============================] - 0s 24ms/step - loss: 0.4553 - val_loss: 0.4755\n",
            "Epoch 50/100\n",
            "5/5 [==============================] - 0s 26ms/step - loss: 0.4424 - val_loss: 0.4770\n",
            "Epoch 51/100\n",
            "5/5 [==============================] - 0s 26ms/step - loss: 0.4433 - val_loss: 0.4933\n",
            "Epoch 52/100\n",
            "5/5 [==============================] - 0s 25ms/step - loss: 0.4464 - val_loss: 0.4787\n",
            "Epoch 53/100\n",
            "5/5 [==============================] - 0s 25ms/step - loss: 0.4491 - val_loss: 0.4720\n",
            "Epoch 54/100\n",
            "5/5 [==============================] - 0s 24ms/step - loss: 0.4364 - val_loss: 0.4803\n",
            "Epoch 55/100\n",
            "5/5 [==============================] - 0s 24ms/step - loss: 0.4396 - val_loss: 0.4786\n",
            "Epoch 56/100\n",
            "5/5 [==============================] - 0s 24ms/step - loss: 0.4433 - val_loss: 0.4767\n",
            "Epoch 57/100\n",
            "5/5 [==============================] - 0s 26ms/step - loss: 0.4358 - val_loss: 0.4779\n",
            "Epoch 58/100\n",
            "5/5 [==============================] - 0s 26ms/step - loss: 0.4311 - val_loss: 0.4902\n"
          ]
        }
      ],
      "source": [
        "history = model.fit(\n",
        "    x_train, y_train,\n",
        "    validation_data=(x_valid, y_valid),\n",
        "    epochs=100,\n",
        "    batch_size=256,\n",
        "    callbacks=[early_stopping],   # put your callbacks in a list\n",
        ")"
      ]
    },
    {
      "cell_type": "code",
      "execution_count": null,
      "id": "abbd574c",
      "metadata": {
        "scrolled": true,
        "id": "abbd574c",
        "outputId": "05dfaba8-b4ea-4a17-fc39-47a81e4c8a7d"
      },
      "outputs": [
        {
          "name": "stdout",
          "output_type": "stream",
          "text": [
            "Minimun validation loss: 0.472\n",
            "Epoch number: 52\n"
          ]
        },
        {
          "data": {
            "text/plain": [
              "Text(52, 0.472, '(52,0.472)')"
            ]
          },
          "execution_count": 18,
          "metadata": {},
          "output_type": "execute_result"
        },
        {
          "data": {
            "image/png": "[encoded data removed]",
            "text/plain": [
              "<Figure size 720x432 with 1 Axes>"
            ]
          },
          "metadata": {
            "needs_background": "light"
          },
          "output_type": "display_data"
        }
      ],
      "source": [
        "model_history = pd.DataFrame(history.history)\n",
        "\n",
        "val_loss_min = model_history.val_loss.min()\n",
        "epoch_min = model_history[model_history.val_loss == val_loss_min].index\n",
        "val_loss_min = round(val_loss_min, 4)\n",
        "epoch_min = np.array(epoch_min)[0]\n",
        "print('Minimun validation loss: {}'.format(val_loss_min))\n",
        "print('Epoch number: {}'.format(epoch_min))\n",
        "\n",
        "_,ax1 = plt.subplots()\n",
        "model_history.plot(\n",
        "    figsize=(10,6), \n",
        "    xlabel='Epoch',\n",
        "    ylabel='MAE',\n",
        "    fontsize=10,\n",
        "    ax=ax1,\n",
        "    xticks=np.arange(0, 26, 5),\n",
        "    yticks=np.arange(0, 0.6, 0.05)\n",
        ")\n",
        "ax1.set_title('Learning Curves', size=30)\n",
        "ax1.scatter(epoch_min, val_loss_min, color='green',s=80)\n",
        "ax1.grid(linestyle='--')\n",
        "ax1.text(epoch_min, val_loss_min, '({},{})'.format(epoch_min, val_loss_min),size=15)\n"
      ]
    },
    {
      "cell_type": "markdown",
      "id": "40d4ca65",
      "metadata": {
        "id": "40d4ca65"
      },
      "source": [
        "It shows that the Keras stopped training before the full 100 epochs."
      ]
    },
    {
      "cell_type": "markdown",
      "id": "f8b3508b",
      "metadata": {
        "id": "f8b3508b"
      },
      "source": [
        "# Dropout and Batch Normalization"
      ]
    },
    {
      "cell_type": "markdown",
      "id": "f72afa88",
      "metadata": {
        "id": "f72afa88"
      },
      "source": [
        "## Dropout"
      ]
    },
    {
      "cell_type": "markdown",
      "id": "ae53767d",
      "metadata": {
        "id": "ae53767d"
      },
      "source": [
        "Randomly drop out some fraction of a layer's input units **every step of training**, making it much harder for the network to learn those spurious patterns in the **training data**. <p>\n",
        "You could also think about dropout as creating a kind of ensemble of networks. The predictions will no longer be made by one big network, but instead by **a committee of smaller networks**. Individuals in the committee tend to make different kinds of mistakes, but be right at the same time, making the committee as a whole better than any individual. (If you're familiar with **random forests** as an ensemble of decision trees, it's the same idea.)<p>\n",
        "Below picture shows 50% dropout has been added between the two hidden layers.\n",
        "<img src=\"https://i.imgur.com/a86utxY.gif\" width='80%'>\n",
        "\n",
        "    \n",
        "Code:<p>\n",
        "```Python\n",
        "keras.Sequential([\n",
        "    # ...\n",
        "    # Put the Dropout layer just before the layer you want the dropout applied to\n",
        "    layers.Dropout(rate=0.3), # apply 30% dropout to the next layer \n",
        "    layers.Dense(16),\n",
        "    # ...\n",
        "])\n",
        "```"
      ]
    },
    {
      "cell_type": "markdown",
      "id": "5bf744e1",
      "metadata": {
        "id": "5bf744e1"
      },
      "source": [
        "## Batch Normalization (Batchnorm)"
      ]
    },
    {
      "cell_type": "markdown",
      "id": "b684bcce",
      "metadata": {
        "id": "b684bcce"
      },
      "source": [
        "Batchnorm can help correct training that is slow or unstable.The reason is that SGD will shift the network weights in proportion to how large an activation the data produces. Features that tend to produce activations of very different sizes can make for unstable training behavior.<p>\n",
        "A batch normalization layer looks at each batch as it comes in, first normalizing the batch with its own mean and standard deviation, and then also putting the data on a new scale with two trainable rescaling parameters. Batchnorm, in effect, performs a kind of coordinated rescaling of its inputs.<p>\n",
        "it's good to normalize the data before it goes into the network:\n",
        "```Python\n",
        "layers.BatchNormalization(),\n",
        "layers.Dense(16, activation='relu'),\n",
        "keras.Sequential([\n",
        "    # first layer\n",
        "    layers.BatchNormalization(), # act as a kind of adaptive preprocessor \n",
        "    layers.Dense(16),\n",
        "    # ...\n",
        "])\n",
        "```\n",
        "\n",
        "Most often, batchnorm is added as an aid to the optimization process (though it can sometimes also help prediction performance). Models with batchnorm tend to need fewer epochs to complete training. Moreover, batchnorm can also fix various problems that can cause the training to get \"stuck\". Consider adding batch normalization to your models, especially if you're having trouble during training.<p>\n",
        "It seems that batch normalization can be used at almost any point in a network. You can put it after a layer...\n",
        "```Python\n",
        "layers.Dense(16, activation='relu'),\n",
        "layers.BatchNormalization(),\n",
        " ```\n",
        "... or between a layer and its activation function:\n",
        "```Python\n",
        "layers.Dense(16),\n",
        "layers.BatchNormalization(),\n",
        "layers.Activation('relu'),\n",
        "```\n",
        "**<font color=red size=6>What is the influence by adding batchnorm between different layers?</font>**\n"
      ]
    },
    {
      "cell_type": "markdown",
      "id": "0dd0df2d",
      "metadata": {
        "id": "0dd0df2d"
      },
      "source": [
        "## Example - Using Dropout and Batch Normalization"
      ]
    },
    {
      "cell_type": "markdown",
      "id": "c64dfbf9",
      "metadata": {
        "id": "c64dfbf9"
      },
      "source": [
        "Here still use the dataset processed in [Chapter 3.2.3](#chapter_3.2.2)"
      ]
    },
    {
      "cell_type": "code",
      "execution_count": null,
      "id": "bb2a11ad",
      "metadata": {
        "id": "bb2a11ad"
      },
      "outputs": [],
      "source": [
        "model = keras.Sequential([\n",
        "    layers.Dense(1024, activation='relu', input_shape=[11]),\n",
        "    layers.Dropout(0.3),\n",
        "    layers.BatchNormalization(),\n",
        "    layers.Dense(1024, activation='relu'),\n",
        "    layers.Dropout(0.3),\n",
        "    layers.BatchNormalization(),\n",
        "    layers.Dense(1024, activation='relu'),\n",
        "    layers.Dropout(0.3),\n",
        "    layers.BatchNormalization(),\n",
        "    layers.Dense(1),\n",
        "])"
      ]
    },
    {
      "cell_type": "code",
      "execution_count": null,
      "id": "0cfdc65c",
      "metadata": {
        "id": "0cfdc65c"
      },
      "outputs": [],
      "source": [
        "model.compile(\n",
        "    optimizer='adam',\n",
        "    loss='mae',\n",
        ")\n",
        "\n",
        "history = model.fit(\n",
        "    x_train, y_train,\n",
        "    validation_data=(x_valid, y_valid),\n",
        "    batch_size=256,\n",
        "    epochs=100,\n",
        "    verbose=0,\n",
        ")"
      ]
    },
    {
      "cell_type": "code",
      "execution_count": null,
      "id": "58a82b38",
      "metadata": {
        "scrolled": true,
        "id": "58a82b38",
        "outputId": "abb810fa-4eb4-4c0c-cf32-33b455bd8f1f"
      },
      "outputs": [
        {
          "name": "stdout",
          "output_type": "stream",
          "text": [
            "Minimun validation loss: 0.4985\n",
            "Epoch number: 99\n"
          ]
        },
        {
          "data": {
            "text/plain": [
              "Text(99, 0.4985, '(99,0.4985)')"
            ]
          },
          "execution_count": 21,
          "metadata": {},
          "output_type": "execute_result"
        },
        {
          "data": {
            "image/png": "[encoded data removed]",
            "text/plain": [
              "<Figure size 720x432 with 1 Axes>"
            ]
          },
          "metadata": {
            "needs_background": "light"
          },
          "output_type": "display_data"
        }
      ],
      "source": [
        "model_history = pd.DataFrame(history.history)\n",
        "\n",
        "val_loss_min = model_history.val_loss.min()\n",
        "epoch_min = model_history[model_history.val_loss == val_loss_min].index\n",
        "val_loss_min = round(val_loss_min, 4)\n",
        "epoch_min = np.array(epoch_min)[0]\n",
        "print('Minimun validation loss: {}'.format(val_loss_min))\n",
        "print('Epoch number: {}'.format(epoch_min))\n",
        "\n",
        "_,ax2 = plt.subplots()\n",
        "model_history.plot(\n",
        "    figsize=(10,6), \n",
        "    xlabel='Epoch',\n",
        "    ylabel='MAE',\n",
        "    fontsize=10,\n",
        "    ax=ax2,\n",
        "    xticks=np.arange(0, 105, 5),\n",
        ")\n",
        "\n",
        "ax2.set_title('Learning Curves', size=30)\n",
        "ax2.scatter(epoch_min, val_loss_min, color='green',s=80)\n",
        "ax2.grid(linestyle='--')\n",
        "ax2.text(epoch_min, val_loss_min, '({},{})'.format(epoch_min, val_loss_min),size=15)\n"
      ]
    },
    {
      "cell_type": "markdown",
      "id": "36950773",
      "metadata": {
        "id": "36950773"
      },
      "source": [
        "# Binary Classification"
      ]
    },
    {
      "cell_type": "markdown",
      "id": "7538fe47",
      "metadata": {
        "id": "7538fe47"
      },
      "source": [
        "## Terminology"
      ]
    },
    {
      "cell_type": "markdown",
      "id": "6a9bcd83",
      "metadata": {
        "id": "6a9bcd83"
      },
      "source": [
        "- Accuracy: $accuracy = number_{correct} ~/~ total$\n",
        "- Binary Cross-Entropy: $H_p(q) = - \\frac{1}{N}\\Sigma y_i \\cdot log(p(y_i)) + (1-y_i)\\cdot log(1-p(y_i)) $\n",
        "  - $y_i$: 1 for positive, 0 for negative;\n",
        "  -$p(y_i)$: the predicted probability.\n",
        "<img src=\"https://i.imgur.com/DwVV9bR.png\" width=\"50%\">\n",
        "- Sigmoid Activation: $\\sigma (x) = \\frac{1}{1+e^{-x}}$ , it maps real numbers into the interval [0,1].<img src='https://i.imgur.com/FYbRvJo.png' width='48%'>"
      ]
    },
    {
      "cell_type": "markdown",
      "id": "d0c90ddd",
      "metadata": {
        "id": "d0c90ddd"
      },
      "source": [
        "## Example - Binary Classification"
      ]
    },
    {
      "cell_type": "markdown",
      "id": "4f1b9980",
      "metadata": {
        "id": "4f1b9980"
      },
      "source": [
        "### Import data"
      ]
    },
    {
      "cell_type": "code",
      "execution_count": null,
      "id": "1681ab8d",
      "metadata": {
        "id": "1681ab8d",
        "outputId": "8344e02f-ff30-48e9-b9f3-974b667b371b"
      },
      "outputs": [
        {
          "data": {
            "text/html": [
              "<div>\n",
              "<style scoped>\n",
              "    .dataframe tbody tr th:only-of-type {\n",
              "        vertical-align: middle;\n",
              "    }\n",
              "\n",
              "    .dataframe tbody tr th {\n",
              "        vertical-align: top;\n",
              "    }\n",
              "\n",
              "    .dataframe thead th {\n",
              "        text-align: right;\n",
              "    }\n",
              "</style>\n",
              "<table border=\"1\" class=\"dataframe\">\n",
              "  <thead>\n",
              "    <tr style=\"text-align: right;\">\n",
              "      <th></th>\n",
              "      <th>V1</th>\n",
              "      <th>V2</th>\n",
              "      <th>V3</th>\n",
              "      <th>V4</th>\n",
              "      <th>V5</th>\n",
              "      <th>V6</th>\n",
              "      <th>V7</th>\n",
              "      <th>V8</th>\n",
              "      <th>V9</th>\n",
              "      <th>V10</th>\n",
              "      <th>...</th>\n",
              "      <th>V26</th>\n",
              "      <th>V27</th>\n",
              "      <th>V28</th>\n",
              "      <th>V29</th>\n",
              "      <th>V30</th>\n",
              "      <th>V31</th>\n",
              "      <th>V32</th>\n",
              "      <th>V33</th>\n",
              "      <th>V34</th>\n",
              "      <th>Class</th>\n",
              "    </tr>\n",
              "  </thead>\n",
              "  <tbody>\n",
              "    <tr>\n",
              "      <th>1</th>\n",
              "      <td>1</td>\n",
              "      <td>0</td>\n",
              "      <td>0.99539</td>\n",
              "      <td>-0.05889</td>\n",
              "      <td>0.85243</td>\n",
              "      <td>0.02306</td>\n",
              "      <td>0.83398</td>\n",
              "      <td>-0.37708</td>\n",
              "      <td>1.00000</td>\n",
              "      <td>0.03760</td>\n",
              "      <td>...</td>\n",
              "      <td>-0.51171</td>\n",
              "      <td>0.41078</td>\n",
              "      <td>-0.46168</td>\n",
              "      <td>0.21266</td>\n",
              "      <td>-0.34090</td>\n",
              "      <td>0.42267</td>\n",
              "      <td>-0.54487</td>\n",
              "      <td>0.18641</td>\n",
              "      <td>-0.45300</td>\n",
              "      <td>good</td>\n",
              "    </tr>\n",
              "    <tr>\n",
              "      <th>2</th>\n",
              "      <td>1</td>\n",
              "      <td>0</td>\n",
              "      <td>1.00000</td>\n",
              "      <td>-0.18829</td>\n",
              "      <td>0.93035</td>\n",
              "      <td>-0.36156</td>\n",
              "      <td>-0.10868</td>\n",
              "      <td>-0.93597</td>\n",
              "      <td>1.00000</td>\n",
              "      <td>-0.04549</td>\n",
              "      <td>...</td>\n",
              "      <td>-0.26569</td>\n",
              "      <td>-0.20468</td>\n",
              "      <td>-0.18401</td>\n",
              "      <td>-0.19040</td>\n",
              "      <td>-0.11593</td>\n",
              "      <td>-0.16626</td>\n",
              "      <td>-0.06288</td>\n",
              "      <td>-0.13738</td>\n",
              "      <td>-0.02447</td>\n",
              "      <td>bad</td>\n",
              "    </tr>\n",
              "    <tr>\n",
              "      <th>3</th>\n",
              "      <td>1</td>\n",
              "      <td>0</td>\n",
              "      <td>1.00000</td>\n",
              "      <td>-0.03365</td>\n",
              "      <td>1.00000</td>\n",
              "      <td>0.00485</td>\n",
              "      <td>1.00000</td>\n",
              "      <td>-0.12062</td>\n",
              "      <td>0.88965</td>\n",
              "      <td>0.01198</td>\n",
              "      <td>...</td>\n",
              "      <td>-0.40220</td>\n",
              "      <td>0.58984</td>\n",
              "      <td>-0.22145</td>\n",
              "      <td>0.43100</td>\n",
              "      <td>-0.17365</td>\n",
              "      <td>0.60436</td>\n",
              "      <td>-0.24180</td>\n",
              "      <td>0.56045</td>\n",
              "      <td>-0.38238</td>\n",
              "      <td>good</td>\n",
              "    </tr>\n",
              "    <tr>\n",
              "      <th>4</th>\n",
              "      <td>1</td>\n",
              "      <td>0</td>\n",
              "      <td>1.00000</td>\n",
              "      <td>-0.45161</td>\n",
              "      <td>1.00000</td>\n",
              "      <td>1.00000</td>\n",
              "      <td>0.71216</td>\n",
              "      <td>-1.00000</td>\n",
              "      <td>0.00000</td>\n",
              "      <td>0.00000</td>\n",
              "      <td>...</td>\n",
              "      <td>0.90695</td>\n",
              "      <td>0.51613</td>\n",
              "      <td>1.00000</td>\n",
              "      <td>1.00000</td>\n",
              "      <td>-0.20099</td>\n",
              "      <td>0.25682</td>\n",
              "      <td>1.00000</td>\n",
              "      <td>-0.32382</td>\n",
              "      <td>1.00000</td>\n",
              "      <td>bad</td>\n",
              "    </tr>\n",
              "    <tr>\n",
              "      <th>5</th>\n",
              "      <td>1</td>\n",
              "      <td>0</td>\n",
              "      <td>1.00000</td>\n",
              "      <td>-0.02401</td>\n",
              "      <td>0.94140</td>\n",
              "      <td>0.06531</td>\n",
              "      <td>0.92106</td>\n",
              "      <td>-0.23255</td>\n",
              "      <td>0.77152</td>\n",
              "      <td>-0.16399</td>\n",
              "      <td>...</td>\n",
              "      <td>-0.65158</td>\n",
              "      <td>0.13290</td>\n",
              "      <td>-0.53206</td>\n",
              "      <td>0.02431</td>\n",
              "      <td>-0.62197</td>\n",
              "      <td>-0.05707</td>\n",
              "      <td>-0.59573</td>\n",
              "      <td>-0.04608</td>\n",
              "      <td>-0.65697</td>\n",
              "      <td>good</td>\n",
              "    </tr>\n",
              "  </tbody>\n",
              "</table>\n",
              "<p>5 rows × 35 columns</p>\n",
              "</div>"
            ],
            "text/plain": [
              "   V1  V2       V3       V4       V5       V6       V7       V8       V9  \\\n",
              "1   1   0  0.99539 -0.05889  0.85243  0.02306  0.83398 -0.37708  1.00000   \n",
              "2   1   0  1.00000 -0.18829  0.93035 -0.36156 -0.10868 -0.93597  1.00000   \n",
              "3   1   0  1.00000 -0.03365  1.00000  0.00485  1.00000 -0.12062  0.88965   \n",
              "4   1   0  1.00000 -0.45161  1.00000  1.00000  0.71216 -1.00000  0.00000   \n",
              "5   1   0  1.00000 -0.02401  0.94140  0.06531  0.92106 -0.23255  0.77152   \n",
              "\n",
              "       V10  ...      V26      V27      V28      V29      V30      V31  \\\n",
              "1  0.03760  ... -0.51171  0.41078 -0.46168  0.21266 -0.34090  0.42267   \n",
              "2 -0.04549  ... -0.26569 -0.20468 -0.18401 -0.19040 -0.11593 -0.16626   \n",
              "3  0.01198  ... -0.40220  0.58984 -0.22145  0.43100 -0.17365  0.60436   \n",
              "4  0.00000  ...  0.90695  0.51613  1.00000  1.00000 -0.20099  0.25682   \n",
              "5 -0.16399  ... -0.65158  0.13290 -0.53206  0.02431 -0.62197 -0.05707   \n",
              "\n",
              "       V32      V33      V34  Class  \n",
              "1 -0.54487  0.18641 -0.45300   good  \n",
              "2 -0.06288 -0.13738 -0.02447    bad  \n",
              "3 -0.24180  0.56045 -0.38238   good  \n",
              "4  1.00000 -0.32382  1.00000    bad  \n",
              "5 -0.59573 -0.04608 -0.65697   good  \n",
              "\n",
              "[5 rows x 35 columns]"
            ]
          },
          "execution_count": 22,
          "metadata": {},
          "output_type": "execute_result"
        }
      ],
      "source": [
        "data = pd.read_csv('ion.csv', index_col=0)\n",
        "data.head()"
      ]
    },
    {
      "cell_type": "markdown",
      "id": "c070ac8d",
      "metadata": {
        "id": "c070ac8d"
      },
      "source": [
        "### Data precessing"
      ]
    },
    {
      "cell_type": "markdown",
      "id": "feb6c995",
      "metadata": {
        "id": "feb6c995"
      },
      "source": [
        "##### change the class column into numbers"
      ]
    },
    {
      "cell_type": "code",
      "execution_count": null,
      "id": "a8431383",
      "metadata": {
        "id": "a8431383"
      },
      "outputs": [],
      "source": [
        "data.Class.replace(to_replace=['good', 'bad'], value=[1,0], inplace=True)"
      ]
    },
    {
      "cell_type": "markdown",
      "id": "de3c8ce5",
      "metadata": {
        "id": "de3c8ce5"
      },
      "source": [
        "##### Split   data"
      ]
    },
    {
      "cell_type": "code",
      "execution_count": null,
      "id": "b78b0a5d",
      "metadata": {
        "id": "b78b0a5d"
      },
      "outputs": [],
      "source": [
        "x = data.drop(columns='Class')\n",
        "y = data.Class\n",
        "x_train, x_valid, y_train, y_valid = train_test_split(x, y, test_size=0.3, random_state=0)"
      ]
    },
    {
      "cell_type": "markdown",
      "id": "8825a782",
      "metadata": {
        "id": "8825a782"
      },
      "source": [
        "#####  Scale data"
      ]
    },
    {
      "cell_type": "code",
      "execution_count": null,
      "id": "d6e24959",
      "metadata": {
        "id": "d6e24959"
      },
      "outputs": [],
      "source": [
        "scaler = MinMaxScaler()\n",
        "x_train = pd.DataFrame(scaler.fit_transform(x_train))\n",
        "x_valid = pd.DataFrame(scaler.transform(x_valid))"
      ]
    },
    {
      "cell_type": "markdown",
      "id": "333ba55e",
      "metadata": {
        "id": "333ba55e"
      },
      "source": [
        "### Build Model"
      ]
    },
    {
      "cell_type": "code",
      "execution_count": null,
      "id": "9de9ac4a",
      "metadata": {
        "id": "9de9ac4a"
      },
      "outputs": [],
      "source": [
        "from tensorflow import keras\n",
        "from tensorflow.keras import layers"
      ]
    },
    {
      "cell_type": "code",
      "execution_count": null,
      "id": "c56959c7",
      "metadata": {
        "id": "c56959c7"
      },
      "outputs": [],
      "source": [
        "model  = keras.Sequential([\n",
        "    layers.Dense(4, 'relu', [33]),\n",
        "    layers.Dense(4, 'relu'),\n",
        "    # the final layer we use sigmoid activation function\n",
        "    layers.Dense(1, 'sigmoid')\n",
        "])"
      ]
    },
    {
      "cell_type": "code",
      "execution_count": null,
      "id": "043f1d5f",
      "metadata": {
        "id": "043f1d5f"
      },
      "outputs": [],
      "source": [
        "model.compile(\n",
        "    optimizer='adam',\n",
        "    loss='binary_crossentropy',\n",
        "    metrics=['accuracy'],\n",
        ")"
      ]
    },
    {
      "cell_type": "code",
      "execution_count": null,
      "id": "fd95c292",
      "metadata": {
        "id": "fd95c292"
      },
      "outputs": [],
      "source": [
        "early_stopping = keras.callbacks.EarlyStopping(\n",
        "    patience=10,\n",
        "    min_delta=0.001,\n",
        "    restore_best_weights=True\n",
        ")"
      ]
    },
    {
      "cell_type": "code",
      "execution_count": null,
      "id": "2504a8d1",
      "metadata": {
        "id": "2504a8d1"
      },
      "outputs": [],
      "source": [
        "history = model.fit(\n",
        "    x_train, y_train,\n",
        "    validation_data=(x_valid, y_valid),\n",
        "    batch_size=512,\n",
        "    epochs=1000,\n",
        "    callbacks=[early_stopping],\n",
        "    verbose=0,\n",
        ")"
      ]
    },
    {
      "cell_type": "code",
      "execution_count": null,
      "id": "1f2c5f4d",
      "metadata": {
        "id": "1f2c5f4d",
        "outputId": "ff4961d8-87bd-465e-e95c-519dbb0ef40d"
      },
      "outputs": [
        {
          "data": {
            "text/html": [
              "<div>\n",
              "<style scoped>\n",
              "    .dataframe tbody tr th:only-of-type {\n",
              "        vertical-align: middle;\n",
              "    }\n",
              "\n",
              "    .dataframe tbody tr th {\n",
              "        vertical-align: top;\n",
              "    }\n",
              "\n",
              "    .dataframe thead th {\n",
              "        text-align: right;\n",
              "    }\n",
              "</style>\n",
              "<table border=\"1\" class=\"dataframe\">\n",
              "  <thead>\n",
              "    <tr style=\"text-align: right;\">\n",
              "      <th></th>\n",
              "      <th>loss</th>\n",
              "      <th>accuracy</th>\n",
              "      <th>val_loss</th>\n",
              "      <th>val_accuracy</th>\n",
              "    </tr>\n",
              "  </thead>\n",
              "  <tbody>\n",
              "    <tr>\n",
              "      <th>0</th>\n",
              "      <td>0.630497</td>\n",
              "      <td>0.665306</td>\n",
              "      <td>0.670046</td>\n",
              "      <td>0.584906</td>\n",
              "    </tr>\n",
              "    <tr>\n",
              "      <th>1</th>\n",
              "      <td>0.629550</td>\n",
              "      <td>0.665306</td>\n",
              "      <td>0.669921</td>\n",
              "      <td>0.584906</td>\n",
              "    </tr>\n",
              "    <tr>\n",
              "      <th>2</th>\n",
              "      <td>0.628626</td>\n",
              "      <td>0.665306</td>\n",
              "      <td>0.669787</td>\n",
              "      <td>0.584906</td>\n",
              "    </tr>\n",
              "    <tr>\n",
              "      <th>3</th>\n",
              "      <td>0.627724</td>\n",
              "      <td>0.665306</td>\n",
              "      <td>0.669642</td>\n",
              "      <td>0.584906</td>\n",
              "    </tr>\n",
              "    <tr>\n",
              "      <th>4</th>\n",
              "      <td>0.626852</td>\n",
              "      <td>0.665306</td>\n",
              "      <td>0.669485</td>\n",
              "      <td>0.584906</td>\n",
              "    </tr>\n",
              "  </tbody>\n",
              "</table>\n",
              "</div>"
            ],
            "text/plain": [
              "       loss  accuracy  val_loss  val_accuracy\n",
              "0  0.630497  0.665306  0.670046      0.584906\n",
              "1  0.629550  0.665306  0.669921      0.584906\n",
              "2  0.628626  0.665306  0.669787      0.584906\n",
              "3  0.627724  0.665306  0.669642      0.584906\n",
              "4  0.626852  0.665306  0.669485      0.584906"
            ]
          },
          "execution_count": 31,
          "metadata": {},
          "output_type": "execute_result"
        }
      ],
      "source": [
        "model_history = pd.DataFrame(history.history)\n",
        "model_history.head()"
      ]
    },
    {
      "cell_type": "code",
      "execution_count": null,
      "id": "3edf4f09",
      "metadata": {
        "id": "3edf4f09",
        "outputId": "dc0af5db-4f21-4cb6-b594-68a26384c510"
      },
      "outputs": [
        {
          "data": {
            "text/plain": [
              "<AxesSubplot:>"
            ]
          },
          "execution_count": 32,
          "metadata": {},
          "output_type": "execute_result"
        },
        {
          "data": {
            "image/png": "[encoded data removed]",
            "text/plain": [
              "<Figure size 936x360 with 2 Axes>"
            ]
          },
          "metadata": {
            "needs_background": "light"
          },
          "output_type": "display_data"
        }
      ],
      "source": [
        "_, ax = plt.subplots(1,2, figsize=(13, 5))\n",
        "model_history[['loss', 'val_loss']].plot(ax=ax[0])\n",
        "model_history[['accuracy', 'val_accuracy']].plot(ax=ax[1])"
      ]
    },
    {
      "cell_type": "markdown",
      "id": "696054f3",
      "metadata": {
        "id": "696054f3"
      },
      "source": [
        "# The convolutional Classifier"
      ]
    },
    {
      "cell_type": "code",
      "execution_count": null,
      "id": "2bd13659",
      "metadata": {
        "id": "2bd13659"
      },
      "outputs": [],
      "source": [
        ""
      ]
    }
  ],
  "metadata": {
    "kernelspec": {
      "display_name": "Python 3 (ipykernel)",
      "language": "python",
      "name": "python3"
    },
    "language_info": {
      "codemirror_mode": {
        "name": "ipython",
        "version": 3
      },
      "file_extension": ".py",
      "mimetype": "text/x-python",
      "name": "python",
      "nbconvert_exporter": "python",
      "pygments_lexer": "ipython3",
      "version": "3.8.12"
    },
    "toc": {
      "base_numbering": 1,
      "nav_menu": {},
      "number_sections": true,
      "sideBar": true,
      "skip_h1_title": false,
      "title_cell": "Table of Contents",
      "title_sidebar": "Contents",
      "toc_cell": false,
      "toc_position": {
        "height": "calc(100% - 180px)",
        "left": "10px",
        "top": "150px",
        "width": "273.188px"
      },
      "toc_section_display": true,
      "toc_window_display": true
    },
    "colab": {
      "name": "Intro to DL.ipynb",
      "provenance": []
    }
  },
  "nbformat": 4,
  "nbformat_minor": 5
}